{
 "cells": [
  {
   "cell_type": "code",
   "execution_count": 1,
   "metadata": {},
   "outputs": [
    {
     "data": {
      "text/plain": [
       "True"
      ]
     },
     "execution_count": 1,
     "metadata": {},
     "output_type": "execute_result"
    }
   ],
   "source": [
    "from dotenv import load_dotenv\n",
    "import os\n",
    "\n",
    "load_dotenv()"
   ]
  },
  {
   "cell_type": "markdown",
   "metadata": {},
   "source": [
    "## 1.Indexing"
   ]
  },
  {
   "cell_type": "markdown",
   "metadata": {},
   "source": [
    "Text embedding"
   ]
  },
  {
   "cell_type": "code",
   "execution_count": null,
   "metadata": {},
   "outputs": [
    {
     "name": "stderr",
     "output_type": "stream",
     "text": [
      "c:\\Users\\wongx\\miniconda3\\envs\\langchain-env\\lib\\site-packages\\tqdm\\auto.py:21: TqdmWarning: IProgress not found. Please update jupyter and ipywidgets. See https://ipywidgets.readthedocs.io/en/stable/user_install.html\n",
      "  from .autonotebook import tqdm as notebook_tqdm\n"
     ]
    }
   ],
   "source": [
    "from langchain_huggingface import HuggingFaceEmbeddings\n",
    "# from langchain_community.embeddings.spacy_embeddings import SpacyEmbeddings\n",
    "\n",
    "# embedder = SpacyEmbeddings(model_name=\"en_core_web_sm\")\n",
    "embedder = HuggingFaceEmbeddings(model_name=\"sentence-transformers/all-mpnet-base-v2\")\n",
    "\n",
    "# testing the embedder\n",
    "embeddings = embedder.embed_documents(\n",
    "    [\n",
    "        \"Hi there!\",\n",
    "        \"Oh, hello!\",\n",
    "        \"What's your name?\",\n",
    "        \"My friends call me World\",\n",
    "        \"Hello World!\"\n",
    "    ]\n",
    ")\n",
    "len(embeddings), len(embeddings[0])"
   ]
  },
  {
   "cell_type": "markdown",
   "metadata": {},
   "source": [
    "Document Loader"
   ]
  },
  {
   "cell_type": "code",
   "execution_count": 9,
   "metadata": {},
   "outputs": [
    {
     "data": {
      "text/plain": [
       "dict_keys(['title', 'abstract', 'keywords', 'year', 'doi', 'authors', 'full text', 'pages', 'content'])"
      ]
     },
     "execution_count": 9,
     "metadata": {},
     "output_type": "execute_result"
    }
   ],
   "source": [
    "import json\n",
    "import os\n",
    "import re\n",
    "from langchain.schema import Document\n",
    "\n",
    "datapath = '../data/data_info.txt'\n",
    "\n",
    "with open(datapath, \"r\") as file:\n",
    "    raw_data = file.read()\n",
    "\n",
    "corpus = json.loads(raw_data)\n",
    "corpus[0].keys()\n"
   ]
  },
  {
   "cell_type": "code",
   "execution_count": 17,
   "metadata": {},
   "outputs": [
    {
     "name": "stdout",
     "output_type": "stream",
     "text": [
      "100\n",
      "{'title': 'A Critical Survey on the use of Fuzzy Sets in Speech and Natural Language Processing', 'authors': ['Joao P. Carvalho', 'Fernando Batista', 'Luisa Coheur'], 'year': 2012, 'keywords': ['Fuzzy Sets', 'Natural Language Processing', 'Speech processing']}\n"
     ]
    }
   ],
   "source": [
    "docs = []\n",
    "\n",
    "for thesis in corpus:\n",
    "    document = Document(\n",
    "    page_content=\"This is the text content of the document.\",\n",
    "    metadata={\n",
    "        \"title\": thesis['title'],\n",
    "        \"authors\": thesis['authors'],\n",
    "        \"year\": thesis['year'],\n",
    "        \"keywords\": thesis['keywords']\n",
    "    })\n",
    "    docs.append(document)\n",
    "\n",
    "print(len(doc))\n",
    "print(docs[0].metadata)"
   ]
  },
  {
   "cell_type": "markdown",
   "metadata": {},
   "source": [
    "Splitter"
   ]
  },
  {
   "cell_type": "code",
   "execution_count": 18,
   "metadata": {},
   "outputs": [
    {
     "data": {
      "text/plain": [
       "[Document(metadata={'title': 'A Critical Survey on the use of Fuzzy Sets in Speech and Natural Language Processing', 'authors': ['Joao P. Carvalho', 'Fernando Batista', 'Luisa Coheur'], 'year': 2012, 'keywords': ['Fuzzy Sets', 'Natural Language Processing', 'Speech processing']}, page_content='This is the text content of the document.'),\n",
       " Document(metadata={'title': 'A Memory-Based Approach to Anti-Spam Filtering for Mailing Lists', 'authors': ['GEORGIOS SAKKIS', 'ION ANDROUTSOPOULOS', 'GEORGIOS PALIOURAS', 'VANGELIS KARKALETSIS', 'CONSTANTINE D. SPYROPOULOS', 'PANAGIOTIS STAMATOPOULOS'], 'year': 2003, 'keywords': ['text categorization', 'machine learning', 'unsolicited commercial e-mail', 'spam']}, page_content='This is the text content of the document.'),\n",
       " Document(metadata={'title': 'A Probabilistic Generative Model for Mining Cybercriminal Networks from Online Social Media', 'authors': ['Raymond Y.K. Lau', 'Yunqing Xia', 'Yunming Ye'], 'year': 2014, 'keywords': ['cybercriminal networks', 'online social media', 'weakly supervised learning', 'probabilistic generative model', 'context-sensitive Gibbs sampling']}, page_content='This is the text content of the document.'),\n",
       " Document(metadata={'title': 'A Semantically Guided and Domain-Independent Evolutionary Model for Knowledge Discovery From Texts', 'authors': ['John Atkinson-Abutridy', 'Chris Mellish', 'Stuart Aitken'], 'year': 2003, 'keywords': ['Data mining', 'genetic algorithms (GAs)', 'knowledge discovery from texts (KDTs)']}, page_content='This is the text content of the document.'),\n",
       " Document(metadata={'title': 'A Survey of Knowledge-Enhanced Text Generation', 'authors': ['WENHAO YU', 'CHENGUANG ZHU', 'ZAITANG LI', 'ZHITING HU', 'QINGYUN WANG', 'HENG JI', 'MENG JIANG'], 'year': 2022, 'keywords': ['natural language processing', 'natural language generation', 'knowledge-enhanced methods', 'neural networks']}, page_content='This is the text content of the document.'),\n",
       " Document(metadata={'title': 'A Constant Time Complexity Spam Detection Algorithm for Boosting Throughput on Rule-Based Filtering Systems', 'authors': ['TIAN XIA'], 'year': 2020, 'keywords': ['Constant time complexity', 'hash forest', 'rule-based filtering', 'spam detection', 'throughput']}, page_content='This is the text content of the document.'),\n",
       " Document(metadata={'title': 'A Survey of the Usages of Deep Learning for Natural Language Processing', 'authors': ['Daniel W. Otter', 'Julian R. Medina', 'Jugal K. Kalita'], 'year': 2021, 'keywords': ['Computational linguistics', 'deep learning', 'machine learning', 'natural language processing (NLP)', 'neural networks']}, page_content='This is the text content of the document.'),\n",
       " Document(metadata={'title': 'A Combined approach of Base and Meta Learners for Hybrid System', 'authors': ['Abdul Ahad Abro', 'Waqas Ahmed Siddique', 'Mir Sajjad Hussain Talpur', 'Awais Khan Jumani', 'Erkan Yaşar'], 'year': 2023, 'keywords': ['Artificial Intelligence', 'Machine Learning', 'Ensemble Learning', 'Pattern Recognition', 'Data Mining', 'Classification']}, page_content='This is the text content of the document.'),\n",
       " Document(metadata={'title': 'Advances in natural language processing', 'authors': ['Julia Hirschberg', 'Christopher D. Manning'], 'year': 2015, 'keywords': []}, page_content='This is the text content of the document.'),\n",
       " Document(metadata={'title': 'Affect Analysis of Text Using Fuzzy Semantic Typing', 'authors': ['Pero Subasic', 'Alison Huettner'], 'year': 2001, 'keywords': ['Computing with words', 'fuzzy logic', 'knowledge engineering', 'text mining', 'world wide web']}, page_content='This is the text content of the document.'),\n",
       " Document(metadata={'title': 'AllenNLP: A Deep Semantic Natural Language Processing Platform', 'authors': ['Matt Gardner', 'Joel Grus', 'Mark Neumann', 'Oyvind Tafjord', 'Pradeep Dasigi', 'Nelson F. Liu', 'Matthew Peters', 'Michael Schmitz', 'Luke Zettlemoyer'], 'year': 2018, 'keywords': []}, page_content='This is the text content of the document.'),\n",
       " Document(metadata={'title': 'Ambiguity Resolution Analysis in Incremental Parsing of Natural Language', 'authors': ['Fabrizio Costa', 'Paolo Frasconi', 'Vincenzo Lombardo', 'Patrick Sturt', 'Giovanni Soda'], 'year': 2005, 'keywords': ['First-pass attachment', 'incremental parsing', 'learning preferences', 'recursive neural networks (RNNs)', 'structured data']}, page_content='This is the text content of the document.'),\n",
       " Document(metadata={'title': 'An Algorithm for Suffix Stripping', 'authors': ['M.F. Porter'], 'year': 1980, 'keywords': []}, page_content='This is the text content of the document.'),\n",
       " Document(metadata={'title': 'An Intelligent Self-Organization Scheme for the Internet of Things', 'authors': ['Yongsheng Ding', 'Yanling Jin', 'Lihong Ren', 'Kuangrong Hao'], 'year': 2013, 'keywords': []}, page_content='This is the text content of the document.'),\n",
       " Document(metadata={'title': 'Applying regression models to query-focused multi-document summarization', 'authors': ['You Ouyang', 'Wenjie Li', 'Sujian Li', 'Qin Lu'], 'year': 2011, 'keywords': ['Query-focused summarization', 'Support Vector Regression', 'Training data construction']}, page_content='This is the text content of the document.'),\n",
       " Document(metadata={'title': 'Applying Data Mining Techniques for Descriptive Phrase Extraction in Digital Document Collections', 'authors': ['Helena Ahonen', 'Oskari Heinonen', 'Mika Klemettinen', 'A. Inkeri Verkamo'], 'year': 1997, 'keywords': []}, page_content='This is the text content of the document.'),\n",
       " Document(metadata={'title': 'A Stacking-based Ensemble Learning Method for Outlier Detection', 'authors': ['Abdul Ahad', 'Erdal Tasci', 'Aybars Ugur'], 'year': 2020, 'keywords': ['Outlier detection', 'Ensemble learning', 'Machine Learning', 'Classification', 'Data Mining']}, page_content='This is the text content of the document.'),\n",
       " Document(metadata={'title': 'Attention Is All You Need', 'authors': ['Ashish Vaswani', 'Noam Shazeer', 'Niki Parmar', 'Jakob Uszkoreit', 'Llion Jones', 'Aidan N. Gomez', 'Łukasz Kaiser', 'Illia Polosukhin'], 'year': 2017, 'keywords': []}, page_content='This is the text content of the document.'),\n",
       " Document(metadata={'title': 'Attention in Natural Language Processing', 'authors': ['Andrea Galassi', 'Marco Lippi', 'Paolo Torroni'], 'year': 2021, 'keywords': ['Natural language processing (NLP)', 'neural attention', 'neural networks', 'review', 'survey']}, page_content='This is the text content of the document.'),\n",
       " Document(metadata={'title': 'Automatic Subject Classification of Public Messages in E-government Affairs', 'authors': ['Pei Pan', 'Yijin Chen'], 'year': 2021, 'keywords': ['Internet politics inquiry', 'public message', 'subject classification', 'Bi-LSTM model', 'attention mechanism']}, page_content='This is the text content of the document.'),\n",
       " Document(metadata={'title': 'BERT: Pre-training of Deep Bidirectional Transformers for Language Understanding', 'authors': ['Jacob Devlin', 'Ming-Wei Chang', 'Kenton Lee', 'Kristina Toutanova'], 'year': 2018, 'keywords': []}, page_content='This is the text content of the document.'),\n",
       " Document(metadata={'title': 'Challenges and opportunities for public health made possible by advances in natural language processing', 'authors': ['Oliver Baclic', 'Matthew Tunis', 'Kelsey Young', 'Coroline Doan', 'Howard Swerdfeger', 'Justin Schonfeld'], 'year': 2020, 'keywords': ['natural language processing', 'NLP', 'artificial intelligence', 'machine learning', 'public health']}, page_content='This is the text content of the document.'),\n",
       " Document(metadata={'title': 'COGVIEW & INTELNET: Nuanced Energy-Based Knowledge Representation And Integrated Cognitive-Conceptual Framework For Realistic Culture, Values, and Concept-Affected Systems Simulation', 'authors': ['Daniel J. Olsher'], 'year': 2021, 'keywords': ['Culture', 'Belief', 'Emotion Simulation', 'Norm Change', 'Energy-Based Knowledge Representation', 'Reasoning', 'Cognitive Psychology']}, page_content='This is the text content of the document.'),\n",
       " Document(metadata={'title': 'Commonsense Knowledge Mining from Pretrained Models', 'authors': ['Joshua Feldman', 'Joe Davison', 'Alexander M. Rush'], 'year': 2019, 'keywords': []}, page_content='This is the text content of the document.'),\n",
       " Document(metadata={'title': 'Commonsense Reasoning and Commonsense Knowledge in Artificial Intelligence', 'authors': ['Ernest Davis', 'Gary Marcus'], 'year': 2015, 'keywords': []}, page_content='This is the text content of the document.'),\n",
       " Document(metadata={'title': 'Comparative Study of CNN and RNN for Natural Language Processing', 'authors': ['Wenpeng Yin', 'Katharina Kann', 'Mo Yu', 'Hinrich Schütze'], 'year': 2017, 'keywords': []}, page_content='This is the text content of the document.'),\n",
       " Document(metadata={'title': 'Computational Intelligence for Evolving Trading Rules', 'authors': ['Adam Ghandar', 'Zbigniew Michalewicz', 'Martin Schmidt', 'Thuy-Duong Tô', 'Ralf Zurbrugg'], 'year': 2009, 'keywords': ['Evolutionary computation', 'fuzzy systems', 'portfolio management', 'stock market', 'trading systems']}, page_content='This is the text content of the document.'),\n",
       " Document(metadata={'title': 'Computing With Words Is an Implementable Paradigm: Fuzzy Queries, Linguistic Data Summaries, and Natural-Language Generation', 'authors': ['Janusz Kacprzyk', 'Sławomir Zadrożny'], 'year': 2010, 'keywords': ['Computational linguistics', 'computing with words(CWW)', 'data mining', 'fuzzy logic', 'fuzzy query', 'linguistic summarization', 'natural-language generation (NLG)', 'protoform']}, page_content='This is the text content of the document.'),\n",
       " Document(metadata={'title': 'Developing a Fuzzy Search Engine Based on Fuzzy Ontology and Semantic Search', 'authors': ['Lien-Fu Lai', 'Chao-Chin Wu', 'Pei-Ying Lin', 'Liang-Tsung Huang'], 'year': 2011, 'keywords': ['Fuzzy Search Engine', 'Fuzzy Ontology', 'Semantic Search']}, page_content='This is the text content of the document.'),\n",
       " Document(metadata={'title': 'Developing a Natural Language Interface to Complex Data', 'authors': ['GARY G. HENDRIX', 'EARL D. SACERDOTI', 'DANIEL SAGALOWICZ', 'JONATHAN SLOCUM'], 'year': 1978, 'keywords': ['natural language', 'intelligent interface', 'database access', 'semantic grammar', 'human engineering', 'run-time personalization']}, page_content='This is the text content of the document.'),\n",
       " Document(metadata={'title': 'Efficient Estimation of Word Representations in Vector Space', 'authors': ['Tomas Mikolov', 'Kai Chen', 'Greg Corrado', 'Jeffrey Dean'], 'year': 2013, 'keywords': []}, page_content='This is the text content of the document.'),\n",
       " Document(metadata={'title': 'Sentence-Level Emotion Detection from Text Based on Semantic Rules', 'authors': ['Dibyendu Seal', 'Uttam K Roy', 'Rohini Basak'], 'year': 2019, 'keywords': ['Emotion Detection', 'NLP', 'Natural Language Toolkit']}, page_content='This is the text content of the document.'),\n",
       " Document(metadata={'title': 'Enhanced SenticNet with Affective Labels for Concept-Based Opinion Mining', 'authors': ['Soujanya Poria', 'Alexander Gelbukh', 'Amir Hussain', 'Newton Howard', 'Dipankar Das', 'Sivaji Bandyopadhyay'], 'year': 2013, 'keywords': []}, page_content='This is the text content of the document.'),\n",
       " Document(metadata={'title': 'Evolutionary and Swarm Computing for the Semantic Web', 'authors': ['Christophe Guéret', 'Stefan Schlobach', 'Kathrin Dentler', 'Martijn Schut', 'Gusz Eiben'], 'year': 2012, 'keywords': []}, page_content='This is the text content of the document.'),\n",
       " Document(metadata={'title': 'Feature Ensemble Plus Sample Selection: Domain Adaptation for Sentiment Classification', 'authors': ['Rui Xia', 'Chengqing Zong', 'Xuelei Hu', 'Erik Cambria'], 'year': 2013, 'keywords': []}, page_content='This is the text content of the document.'),\n",
       " Document(metadata={'title': 'Frame-Based Detection of Opinion Holders and Topics: A Model and a Tool', 'authors': ['Aldo Gangemi', 'Valentina Presutti', 'Diego Reforgiato Recupero'], 'year': 2014, 'keywords': []}, page_content='This is the text content of the document.'),\n",
       " Document(metadata={'title': 'Fuzzy Logic Models for the Meaning of Emotion Words', 'authors': ['Abe Kazemzadeh', 'Sungbok Lee', 'Shrikanth Narayanan'], 'year': 2013, 'keywords': []}, page_content='This is the text content of the document.'),\n",
       " Document(metadata={'title': 'GA, MR, FFNN, PNN and GMM based models for automatic text summarization', 'authors': ['Mohamed Abdel Fattah', 'Fuji Ren'], 'year': 2009, 'keywords': ['Automatic summarization', 'Genetic algorithm', 'Mathematical regression', 'Feed forward neural network', 'Probabilistic neural network', 'Gaussian mixture model']}, page_content='This is the text content of the document.'),\n",
       " Document(metadata={'title': 'GPT Understands, Too', 'authors': ['Xiao Liu', 'Yanan Zheng', 'Zhengxiao Du', 'Ming Ding', 'Yujie Qian', 'Zhilin Yang', 'Jie Tang'], 'year': 2023, 'keywords': []}, page_content='This is the text content of the document.'),\n",
       " Document(metadata={'title': 'Grammatical Evolution', 'authors': ['Michael O’Neill', 'Conor Ryan'], 'year': 2001, 'keywords': ['Automatic programming', 'Backus–Naur form', 'degenerate code', 'evolutionary algorithms', 'neutral networks']}, page_content='This is the text content of the document.'),\n",
       " Document(metadata={'title': 'Identifying the Machine Learning Techniques for Classification of Target Datasets', 'authors': ['Abdul Ahad Abro', 'Mohammed Abebe Yimer', 'Zeeshan Bhatti'], 'year': 2020, 'keywords': ['Machine Learning', 'Data Mining', 'K-Nearest Neighbor', 'Logistic Regression', 'Naive Bayes', 'Support Vector Machine']}, page_content='This is the text content of the document.'),\n",
       " Document(metadata={'title': 'Implementation of a Chat Bot System using AI and NLP', 'authors': ['Tarun Lalwani', 'Shashank Bhalotia', 'Ashish Pal', 'Shreya Bisen', 'Vasundhara Rathod'], 'year': 2018, 'keywords': ['Artificial intelligence', 'chat bot', 'knowledge base', 'lemmatization', 'natural language processing', 'semantic sentence similarity', 'wordnet']}, page_content='This is the text content of the document.'),\n",
       " Document(metadata={'title': 'Improving the Reliability of Deep Neural Networks in NLP: A Review', 'authors': ['Basemah Alshemali', 'Jugal Kalita'], 'year': 2020, 'keywords': ['Adversarial examples', 'Adversarial texts', 'Natural language processing']}, page_content='This is the text content of the document.'),\n",
       " Document(metadata={'title': 'Input Space Versus Feature Space in Kernel-Based Methods', 'authors': ['Bernhard Schölkopf', 'Sebastian Mika', 'Chris J. C. Burges', 'Philipp Knirsch', 'Klaus-Robert Müller', 'Gunnar Rätsch', 'Alexander J. Smola'], 'year': 1999, 'keywords': ['Denoising', 'kernel methods', 'PCA', 'reduced set method', 'sparse representation', 'support vector machines']}, page_content='This is the text content of the document.'),\n",
       " Document(metadata={'title': 'Integrating Document Clustering and Multidocument Summarization', 'authors': ['Dingding Wang', 'Shenghuo Zhu', 'Tao Li', 'Yun Chi', 'Yihong Gong'], 'year': 2011, 'keywords': ['Algorithms', 'Experimentation', 'Performance', 'Document clustering', 'multidocument summarization', 'nonnegative matrix factorization with given bases']}, page_content='This is the text content of the document.'),\n",
       " Document(metadata={'title': 'Is neuro-symbolic AI meeting its promises in natural language processing? A structured review', 'authors': ['Kyle Hamilton', 'Aparna Nayak', 'Bojan Božić', 'Luca Longo'], 'year': 2024, 'keywords': ['Neuro-symbolic artificial intelligence', 'natural language processing', 'deep learning', 'knowledge representation & reasoning', 'structured review']}, page_content='This is the text content of the document.'),\n",
       " Document(metadata={'title': 'Jumping NLP Curves: A Review of Natural Language Processing Research', 'authors': ['Erik Cambria', 'Bebo White'], 'year': 2014, 'keywords': []}, page_content='This is the text content of the document.'),\n",
       " Document(metadata={'title': 'LANGUAGE MODEL IS ALL YOU NEED: NATURAL LANGUAGE UNDERSTANDING AS QUESTION ANSWERING', 'authors': ['Mahdi Namazifar', 'Alexandros Papangelis', 'Gokhan Tur', 'Dilek Hakkani-Tur'], 'year': 2020, 'keywords': ['Transfer Learning', 'Question Answering', 'Natural Language Understanding']}, page_content='This is the text content of the document.'),\n",
       " Document(metadata={'title': 'Language Models are Few-Shot Learners', 'authors': ['Tom B. Brown', 'Benjamin Mann', 'Nick Ryder', 'Melanie Subbiah', 'Jared Kaplan', 'Prafulla Dhariwal', 'Arvind Neelakantan', 'Pranav Shyam Girish Sastry', 'Amanda Askell', 'Sandhini Agarwal', 'Ariel Herbert-Voss', 'Gretchen Krueger', 'Tom Henighan', 'Rewon Child', 'Aditya Ramesh', 'Daniel M. Ziegler', 'Jeffrey Wu', 'Clemens Winter', 'Christopher Hesse', 'Mark Chen', 'Eric Sigler', 'Mateusz Litwin', 'Scott Gray', 'Benjamin Chess', 'Jack Clark', 'Christopher Berner', 'Sam McCandlish', 'Alec Radford', 'Ilya Sutskever', 'Dario Amodei'], 'year': 2020, 'keywords': ['language models', 'few-shot learners', 'GPT-3', 'NLP tasks', 'meta-learning', 'in-context learning']}, page_content='This is the text content of the document.'),\n",
       " Document(metadata={'title': 'LDC-IL: The Indian repository of resources for language technology', 'authors': ['Narayan Choudhary'], 'year': 2021, 'keywords': ['Corpora', 'Indian languages', 'Language resources', 'Data distribution', 'Linguistic repository']}, page_content='This is the text content of the document.'),\n",
       " Document(metadata={'title': 'Learning Deep Physiological Models of Affect', 'authors': ['Héctor P. Martínez', 'Yoshua Bengio', 'Georgios N. Yannakakis'], 'year': 2013, 'keywords': []}, page_content='This is the text content of the document.'),\n",
       " Document(metadata={'title': 'LLaMA: Open and Efﬁcient Foundation Language Models', 'authors': ['Hugo Touvron', 'Thibaut Lavril', 'Gautier Izacard', 'Xavier Martinet', 'Marie-Anne Lachaux', 'Timothee Lacroix', 'Baptiste Roziere', 'Naman Goyal', 'Eric Hambro', 'Faisal Azhar', 'Aurelien Rodriguez', 'Armand Joulin', 'Edouard Grave', 'Guillaume Lample'], 'year': 2023, 'keywords': []}, page_content='This is the text content of the document.'),\n",
       " Document(metadata={'title': 'Long story short – Global unsupervised models for keyphrase based meeting summarization', 'authors': ['Korbinian Riedhammer', 'Benoit Favre', 'Dilek Hakkani-Tur'], 'year': 2010, 'keywords': ['Multi-party meetings speech', 'Summarization', 'Keyphrases', 'Global optimization']}, page_content='This is the text content of the document.'),\n",
       " Document(metadata={'title': 'LSTM: A Search Space Odyssey', 'authors': ['Klaus Greff', 'Rupesh K. Srivastava', 'Jan Koutník', 'Bas R. Steunebrink', 'Jürgen Schmidhuber'], 'year': 2017, 'keywords': ['Functional ANalysis Of VAriance (fANOVA)', 'long short-term memory (LSTM)', 'random search', 'recurrent neural networks', 'sequence lear']}, page_content='This is the text content of the document.'),\n",
       " Document(metadata={'title': 'Machine Learning Classifiers: A Brief Primer', 'authors': ['Abdul Ahad Abro', 'Abdullah Ayub Khan', 'Mir Sajjad Hussain Talpur', 'Idrissa Kayijuka', 'Erkan Yaşar'], 'year': 2022, 'keywords': ['Artificial Intelligence', 'Machine Learning', 'Data Mining', 'Classification', 'Knowledge Discovery in Databases']}, page_content='This is the text content of the document.'),\n",
       " Document(metadata={'title': 'Medical prescription classification: a NLP-based approach', 'authors': ['Viincenza Carchiolo', 'Alessandro Longheu', 'Giuseppa Reitano', 'Luca Zagarella'], 'year': 2019, 'keywords': []}, page_content='This is the text content of the document.'),\n",
       " Document(metadata={'title': 'Multi-Level Knowledge Injecting for Visual Commonsense Reasoning', 'authors': ['Zhang Wen', 'Yuxin Peng'], 'year': 2021, 'keywords': ['Visual commonsense reasoning', 'transfer learning', 'knowledge representation', 'visual question answering']}, page_content='This is the text content of the document.'),\n",
       " Document(metadata={'title': 'Multi-Task Learning in Natural Language Processing: An Overview', 'authors': ['Shijie Chen', 'Yu Zhang', 'Qiang Yang'], 'year': 2024, 'keywords': ['Artificial intelligence', 'Machine learning', 'Natural language processing']}, page_content='This is the text content of the document.'),\n",
       " Document(metadata={'title': 'Natural Language Grammatical Inference with Recurrent Neural Networks', 'authors': ['Steve Lawrence', 'C. Lee Giles', 'Sandiway Fong'], 'year': 2000, 'keywords': ['Recurrent neural networks', 'natural language processing', 'grammatical inference', 'government-and-binding theory', 'gradient descent', 'simulated annealing', 'principles-and-parameters framework', 'automata extraction']}, page_content='This is the text content of the document.'),\n",
       " Document(metadata={'title': 'Natural language processing (NLP) in management research: A literature review', 'authors': ['Yue Kang', 'Zhao Cai', 'Chee-Wee Tan', 'Qian Huang', 'Hefu Liu'], 'year': 2020, 'keywords': ['natural language processing', 'literature review', 'sentiment analysis', 'machine learning']}, page_content='This is the text content of the document.'),\n",
       " Document(metadata={'title': 'Natural Language Processing (Almost) from Scratch', 'authors': ['Ronan Collobert', 'Jason Weston', 'Léon Bottou', 'Michael Karlen', 'Koray Kavukcuoglu', 'Pavel Kuksa'], 'year': 2011, 'keywords': ['natural language processing', 'neural networks']}, page_content='This is the text content of the document.'),\n",
       " Document(metadata={'title': 'Natural language processing: an introduction', 'authors': ['Prakash M Nadkarni', 'Lucila Ohno-Machado', 'Wendy W Chapman'], 'year': 2011, 'keywords': []}, page_content='This is the text content of the document.'),\n",
       " Document(metadata={'title': 'Natural Language Processing Challenges and Issues: A Literature Review', 'authors': ['Abdul Ahad ABRO', 'Mir Sajjad Hussain TALPUR', 'Awais Khan JUMANI'], 'year': 2023, 'keywords': ['Natural language Processing', 'Deep learning', 'Machine learning', 'Artificial intelligence']}, page_content='This is the text content of the document.'),\n",
       " Document(metadata={'title': 'Natural language processing: state of the art, current trends and challenges', 'authors': ['Diksha Khurana', 'Aditya Koli', 'Kiran Khatter', 'Sukhdev Singh'], 'year': 2022, 'keywords': ['Natural language processing', 'Natural language understanding', 'Natural language generation', 'NLP applications', 'NLP evaluation metrics']}, page_content='This is the text content of the document.'),\n",
       " Document(metadata={'title': 'Natural Language Processing', 'authors': ['Elizabeth D. Liddy'], 'year': 2001, 'keywords': ['natural language processing', 'NLP']}, page_content='This is the text content of the document.'),\n",
       " Document(metadata={'title': 'Neural Machine Translation by Jointly Learning to Align and Translate', 'authors': ['Dzmitry Bahdanau', 'KyungHyun Cho', 'Yoshua Bengio'], 'year': 2014, 'keywords': []}, page_content='This is the text content of the document.'),\n",
       " Document(metadata={'title': 'Neural Machine Translation of Rare Words with Subword Units', 'authors': ['Rico Sennrich', 'Barry Haddow', 'Alexandra Birch'], 'year': 2016, 'keywords': []}, page_content='This is the text content of the document.'),\n",
       " Document(metadata={'title': 'Natural Language Processing (NLP) Techniques: Usability in Human-Computer Interactions', 'authors': ['Satyesh Das', 'Divyesh Das'], 'year': 2024, 'keywords': ['human-computer interaction', 'NLP', 'machine translation', 'language complexity']}, page_content='This is the text content of the document.'),\n",
       " Document(metadata={'title': 'On the Role of Bidirectionality in Language Model Pre-Training', 'authors': ['Mikel Artetxe', 'Jingfei Du', 'Naman Goyal', 'Luke Zettlemoyer', 'Ves Stoyanov'], 'year': 2022, 'keywords': []}, page_content='This is the text content of the document.'),\n",
       " Document(metadata={'title': 'Innovations in Natural Language Processing through Enhanced Linguistic Model Accuracy and Efficiency using Advanced Reinforcement Learning Techniques', 'authors': ['K. Kalaiselvi', 'Raju Shanmugam', 'S.Tamilselvan', 'Dr. S.P.Manikandan', 'P Rajasekar'], 'year': 2024, 'keywords': ['Reinforcement Learning', 'Natural Language Processing', 'Model Accuracy', 'Model Efficiency', 'Adaptability', 'Multi-Task Learning', 'Continual Learning']}, page_content='This is the text content of the document.'),\n",
       " Document(metadata={'title': 'Pfam: multiple sequence alignments and HMM-profiles of protein domains', 'authors': ['Erik L. L. Sonnhammer', 'Sean R. Eddy', 'Ewan Birney', 'Alex Bateman', 'Richard Durbin'], 'year': 1998, 'keywords': []}, page_content='This is the text content of the document.'),\n",
       " Document(metadata={'title': 'Natural Language Processing and Its Implications for the Future of Medication Safety: A Narrative Review of Recent Advances and Challenges', 'authors': ['Adrian Wong', 'Joseph M. Plasek', 'Steven P. Montecalvo', 'Li Zhou'], 'year': 2018, 'keywords': ['adverse drug reaction reporting systems', 'electronic health records', 'medical informatics', 'natural language processing', 'patient safety', 'pharmacovigilance', 'social media', 'supervised machine learning']}, page_content='This is the text content of the document.'),\n",
       " Document(metadata={'title': 'Pretrained Language Models for Text Generation: A Survey', 'authors': ['Junyi Li', 'Tianyi Tang', 'Wayne Xin Zhao', 'Ji-Rong Wen'], 'year': 2021, 'keywords': []}, page_content='This is the text content of the document.'),\n",
       " Document(metadata={'title': 'Customer Perception Analysis Using Deep Learning and NLP', 'authors': ['Sridhar Ramaswamy', 'Natalie DeClerck'], 'year': 2018, 'keywords': []}, page_content='This is the text content of the document.'),\n",
       " Document(metadata={'title': 'PTR: Prompt Tuning with Rules for Text Classification', 'authors': ['Xu Han', 'Weilin Zhao', 'Ning Ding', 'Zhiyuan Liu', 'Maosong Sun'], 'year': 2021, 'keywords': []}, page_content='This is the text content of the document.'),\n",
       " Document(metadata={'title': 'QCS: A system for querying, clustering and summarizing documents', 'authors': ['Daniel M. Dunlavy', 'Dianne P. O’Leary', 'John M. Conroy', 'Judith D. Schlesinger'], 'year': 2007, 'keywords': ['Information retrieval', 'Latent semantic indexing', 'Clustering', 'Summarization', 'Text processing', 'Sentence trimming']}, page_content='This is the text content of the document.'),\n",
       " Document(metadata={'title': 'Reasoning with Large Scale Ontologies in Fuzzy pD* Using MapReduce', 'authors': ['Chang Liu', 'Guilin Qi', 'Haofen Wang', 'Yong Yu'], 'year': 2012, 'keywords': []}, page_content='This is the text content of the document.'),\n",
       " Document(metadata={'title': 'Recent Advances in Natural Language Processing via Large Pre-trained Language Models: A Survey', 'authors': ['Bonan Min', 'Hayley Ross', 'Elior Sulem', 'Amir Pouran Ben Veyseh', 'Thien Huu Nguyen', 'Oscar Sainz', 'Eneko Agirre', 'Iliana Heintz', 'Dan Roth'], 'year': 2023, 'keywords': ['Large language models', 'foundational models', 'generative AI', 'neural networks']}, page_content='This is the text content of the document.'),\n",
       " Document(metadata={'title': 'Recent Trends in Deep Learning Based Natural Language Processing', 'authors': ['Tom Young', 'Devamanyu Hazarika', 'Soujanya Poria', 'Erik Cambria'], 'year': 2018, 'keywords': []}, page_content='This is the text content of the document.'),\n",
       " Document(metadata={'title': 'Searching Better Architectures for Neural Machine Translation', 'authors': ['Yang Fan', 'Fei Tian', 'Yingce Xia', 'Tao Qin', 'Xiang-Yang Li', 'Tie-Yan Liu'], 'year': 2020, 'keywords': ['Neural architecture search (NAS)', 'neural machine translation', 'gradient-based NAS algorithm']}, page_content='This is the text content of the document.'),\n",
       " Document(metadata={'title': 'Shared-Private Information Bottleneck Method for Cross-Modal Clustering', 'authors': ['XIAOQIANG YAN', 'YANGDONG YE', 'YIQIAO MAO', 'HUI YU'], 'year': 2019, 'keywords': ['Cross-modal clustering', 'information bottleneck', 'mutual information', 'knowledge graph', 'social images']}, page_content='This is the text content of the document.'),\n",
       " Document(metadata={'title': 'Single-document and multi-document summarization techniques for email threads using sentence compression', 'authors': ['David M. Zajic', 'Bonnie J. Dorr', 'Jimmy Lin'], 'year': 2008, 'keywords': ['Email summarization', 'Sentence compression', 'Trimming', 'Enron', 'Informal media']}, page_content='This is the text content of the document.'),\n",
       " Document(metadata={'title': 'Speech recognition evaluation: a review of the U.S. CSR and LVCSR programmes', 'authors': ['S. J. Young', 'L. L. Chase'], 'year': 1998, 'keywords': []}, page_content='This is the text content of the document.'),\n",
       " Document(metadata={'title': 'Research on the Optimizing Method of Question Answering System in Natural Language Processing', 'authors': ['Zhang Kunpeng'], 'year': 2019, 'keywords': ['Natural language processing', 'Question answering system', 'Information retrieval']}, page_content='This is the text content of the document.'),\n",
       " Document(metadata={'title': 'SUPER-NATURALINSTRUCTIONS: Generalization via Declarative Instructions on 1600+ NLP Tasks', 'authors': ['Yizhong Wang', 'Swaroop Mishra', 'Pegah Alipoormolabashi', 'Yeganeh Kordi', 'Amirreza Mirzaei', 'Anjana Arunkumar', 'Arjun Ashok', 'Arut Selvan Dhanasekaran', 'Atharva Naik', 'David Stap', 'Eshaan Pathak', 'Giannis Karamanolakis', 'Haizhi Gary Lai', 'Ishan Purohit', 'Ishani Mondal', 'Jacob Anderson', 'Kirby Kuznia', 'Krima Doshi', 'Maitreya Patel', 'Kuntal Kumar Pal', 'Mehrad Moradshahi', 'Mihir Parmar', 'Mirali Purohit', 'Neeraj Varshney', 'Phani Rohitha Kaza', 'Pulkit Verma', 'Ravsehaj Singh Puri', 'Rushang Karia', 'Shailaja Keyur Sampat', 'Savan Doshi', 'Siddhartha Mishra', 'Sujan Reddy', 'Sumanta Patro', 'Tanay Dixit', 'Xudong Shen', 'Chitta Baral', 'Yejin Choi', 'Noah A. Smith', 'Hannaneh Hajishirzi', 'Daniel Khashabi'], 'year': 2022, 'keywords': []}, page_content='This is the text content of the document.'),\n",
       " Document(metadata={'title': 'Support Vector Machines for Spam Categorization', 'authors': ['Harris Drucker', 'Donghui Wu', 'Vladimir N. Vapnik'], 'year': 1999, 'keywords': ['Boosting algorithms', 'classification', 'e-mail', 'feature representation', 'Ripper', 'Rocchio', 'support vector machines']}, page_content='This is the text content of the document.'),\n",
       " Document(metadata={'title': 'An Analysis of the Technical Trend of Semantic Search in Natural Language Processing', 'authors': ['Ying Zheng'], 'year': 2023, 'keywords': ['semantic search', 'natural language processing', 'deep learning', 'text representation', 'intent recognition', 'relationship extraction', 'machine learning']}, page_content='This is the text content of the document.'),\n",
       " Document(metadata={'title': 'Symbiosis of Evolutionary Techniques and Statistical Natural Language Processing', 'authors': ['Lourdes Araujo'], 'year': 2004, 'keywords': ['Evolutionary programming', 'lexical tagging', 'natural language processing (NLP)', 'parsing', 'probabilistic methods']}, page_content='This is the text content of the document.'),\n",
       " Document(metadata={'title': 'Symbolic Connectionism in Natural Language Disambiguation', 'authors': ['Samuel W. K. Chan', 'James Franklin'], 'year': 1998, 'keywords': ['Bayesian network', 'constraint satisfaction', 'hybrid systems', 'natural language understanding', 'neural network applications', 'semantic analysis']}, page_content='This is the text content of the document.'),\n",
       " Document(metadata={'title': 'The Proposition Bank: An Annotated Corpus of Semantic Roles', 'authors': ['Martha Palmer', 'Daniel Gildea', 'Paul Kingsbury'], 'year': 2004, 'keywords': []}, page_content='This is the text content of the document.'),\n",
       " Document(metadata={'title': 'The NLP Cookbook: Modern Recipes for Transformer Based Deep Learning Architectures', 'authors': ['Sushant Singh', 'Ausif Mahmood'], 'year': 2021, 'keywords': ['Deep learning', 'natural language processing (NLP)', 'natural language understanding (NLU)', 'natural language generation (NLG)', 'information retrieval (IR)', 'knowledge distillation (KD)', 'pruning', 'quantization']}, page_content='This is the text content of the document.'),\n",
       " Document(metadata={'title': 'Three models for the description of language', 'authors': ['Noam Chomsky'], 'year': nan, 'keywords': []}, page_content='This is the text content of the document.'),\n",
       " Document(metadata={'title': 'Topic aspect-oriented summarization via group selection', 'authors': ['Hanyin Fang', 'Weiming Lu', 'Fei Wu', 'Yin Zhang', 'Xindi Shang', 'Jian Shao', 'Yueting Zhuang'], 'year': 2015, 'keywords': ['Large margin', 'Group norm', 'Submodular function', 'Text/image summarization']}, page_content='This is the text content of the document.'),\n",
       " Document(metadata={'title': 'Towards better substitution-based word sense induction', 'authors': ['Asaf Amrami', 'Yoav Goldberg'], 'year': 2019, 'keywords': []}, page_content='This is the text content of the document.'),\n",
       " Document(metadata={'title': 'Latent Dirichlet Allocation', 'authors': ['David M. Blei', 'Andrew Y. Ng', 'Michael I. Jordan'], 'year': 2003, 'keywords': []}, page_content='This is the text content of the document.'),\n",
       " Document(metadata={'title': 'Transformers: State-of-the-Art Natural Language Processing', 'authors': ['Thomas Wolf', 'Lysandre Debut', 'Victor Sanh', 'Julien Chaumond', 'Clement Delangue', 'Anthony Moi', 'Pierric Cistac', 'Tim Rault', 'Rémi Louf', 'Morgan Funtowicz', 'Joe Davison', 'Sam Shleifer', 'Patrick von Platen', 'Clara Ma', 'Yacine Jernite', 'Julien Plu', 'Canwen Xu', 'Teven Le Scao', 'Sylvain Gugger', 'Mariama Drame', 'Quentin Lhoest', 'Alexander M. Rush'], 'year': 2020, 'keywords': []}, page_content='This is the text content of the document.'),\n",
       " Document(metadata={'title': 'A Topic Coverage Approach to Evaluation of Topic Models', 'authors': ['Damir Korenčić', 'Strahil Ristov', 'Jelena Repar', 'Jan Šnajder'], 'year': 2021, 'keywords': ['Topic coverage', 'topic coherence', 'topic discovery', 'topic models', 'topic model evaluation', 'topic model stability']}, page_content='This is the text content of the document.'),\n",
       " Document(metadata={'title': 'Using only cross-document relationships for both generic and topic-focused multi-document summarizations', 'authors': ['Xiaojun Wan'], 'year': 2008, 'keywords': ['Multi-document summarization', 'Topic-focused summarization', 'Cross-document relationship', 'Graph-ranking']}, page_content='This is the text content of the document.'),\n",
       " Document(metadata={'title': 'Vote-Based: Ensemble Approach', 'authors': ['Abdul Ahad ABRO'], 'year': 2021, 'keywords': ['Machine Learning', 'Artificial Neural Network (ANN)', 'Ensemble learning', 'Data Mining', 'Classification']}, page_content='This is the text content of the document.'),\n",
       " Document(metadata={'title': 'Sentiment Analyzer: Extracting sentiments about a given topic using natural language processing techniques', 'authors': ['Jeonghee Yi', 'Tetsuya Nasukawa', 'Razvan Bunescu', 'Wayne Niblack'], 'year': 2003, 'keywords': []}, page_content='This is the text content of the document.')]"
      ]
     },
     "execution_count": 18,
     "metadata": {},
     "output_type": "execute_result"
    }
   ],
   "source": [
    "from langchain.text_splitter import RecursiveCharacterTextSplitter\n",
    "\n",
    "text_splitter = RecursiveCharacterTextSplitter(chunk_size=1500, chunk_overlap=100)\n",
    "splits = text_splitter.split_documents(docs)\n",
    "\n",
    "splits"
   ]
  },
  {
   "cell_type": "code",
   "execution_count": 9,
   "metadata": {},
   "outputs": [],
   "source": [
    "# from langchain_core.documents import Document\n",
    "\n",
    "# splits = [\n",
    "#     Document(\n",
    "#         page_content=\"Dogs are great companions, known for their loyalty and friendliness.\",\n",
    "#         metadata={\"source\": \"mammal-pets-doc\"},\n",
    "#     ),\n",
    "#     Document(\n",
    "#         page_content=\"Cats are independent pets that often enjoy their own space.\",\n",
    "#         metadata={\"source\": \"mammal-pets-doc\"},\n",
    "#     ),\n",
    "#     Document(\n",
    "#         page_content=\"Goldfish are popular pets for beginners, requiring relatively simple care.\",\n",
    "#         metadata={\"source\": \"fish-pets-doc\"},\n",
    "#     ),\n",
    "#     Document(\n",
    "#         page_content=\"Parrots are intelligent birds capable of mimicking human speech.\",\n",
    "#         metadata={\"source\": \"bird-pets-doc\"},\n",
    "#     ),\n",
    "#     Document(\n",
    "#         page_content=\"Rabbits are social animals that need plenty of space to hop around.\",\n",
    "#         metadata={\"source\": \"mammal-pets-doc\"},\n",
    "#     ),\n",
    "# ]"
   ]
  },
  {
   "cell_type": "markdown",
   "metadata": {},
   "source": [
    "Vectorstore"
   ]
  },
  {
   "cell_type": "code",
   "execution_count": 10,
   "metadata": {},
   "outputs": [],
   "source": [
    "from langchain_community.vectorstores import Chroma\n",
    "\n",
    "vectorstore = Chroma.from_documents(documents=splits, \n",
    "                                    embedding=embedder) # Spacy Embeddings\n",
    "\n",
    "retriever = vectorstore.as_retriever()"
   ]
  },
  {
   "cell_type": "markdown",
   "metadata": {},
   "source": [
    "# 2. Retrieval"
   ]
  },
  {
   "cell_type": "code",
   "execution_count": 11,
   "metadata": {},
   "outputs": [],
   "source": [
    "retriever = vectorstore.as_retriever(search_kwargs={\"k\":5},\n",
    "                                     search_type=\"similarity\")\n",
    "\n",
    "docs = retriever.invoke(\"What is Task Decomposition?\")\n"
   ]
  },
  {
   "cell_type": "code",
   "execution_count": 12,
   "metadata": {},
   "outputs": [
    {
     "name": "stdout",
     "output_type": "stream",
     "text": [
      "(2) Model selection: LLM distributes the tasks to expert models, where the request is framed as a multiple-choice question. LLM is presented with a list of models to choose from. Due to the limited context length, task type based filtration is needed.\n",
      "Instruction:\n",
      "\n",
      "Given the user request and the call command, the AI assistant helps the user to select a suitable model from a list of models to process the user request. The AI assistant merely outputs the model id of the most appropriate model. The output must be in a strict JSON format: \"id\": \"id\", \"reason\": \"your detail reason for the choice\". We have a list of models for you to choose from {{ Candidate Models }}. Please select one model from the list.\n",
      "\n",
      "(3) Task execution: Expert models execute on the specific tasks and log results.\n",
      "Instruction:\n",
      "\n",
      "With the input and the inference results, the AI assistant needs to describe the process and results. The previous stages can be formed as - User Input: {{ User Input }}, Task Planning: {{ Tasks }}, Model Selection: {{ Model Assignment }}, Task Execution: {{ Predictions }}. You must first answer the user's request in a straightforward manner. Then describe the task process and show your analysis and model inference results to the user in the first person. If inference results contain a file path, must tell the user the complete file path.\n",
      "\n",
      "\n",
      "Fig. 1. Overview of a LLM-powered autonomous agent system.\n",
      "Component One: Planning#\n",
      "A complicated task usually involves many steps. An agent needs to know what they are and plan ahead.\n",
      "Task Decomposition#\n",
      "Chain of thought (CoT; Wei et al. 2022) has become a standard prompting technique for enhancing model performance on complex tasks. The model is instructed to “think step by step” to utilize more test-time computation to decompose hard tasks into smaller and simpler steps. CoT transforms big tasks into multiple manageable tasks and shed lights into an interpretation of the model’s thinking process.\n",
      "Tree of Thoughts (Yao et al. 2023) extends CoT by exploring multiple reasoning possibilities at each step. It first decomposes the problem into multiple thought steps and generates multiple thoughts per step, creating a tree structure. The search process can be BFS (breadth-first search) or DFS (depth-first search) with each state evaluated by a classifier (via a prompt) or majority vote.\n",
      "Task decomposition can be done (1) by LLM with simple prompting like \"Steps for XYZ.\\n1.\", \"What are the subgoals for achieving XYZ?\", (2) by using task-specific instructions; e.g. \"Write a story outline.\" for writing a novel, or (3) with human inputs.\n",
      "\n",
      "\n",
      "Fig. 11. Illustration of how HuggingGPT works. (Image source: Shen et al. 2023)\n",
      "The system comprises of 4 stages:\n",
      "(1) Task planning: LLM works as the brain and parses the user requests into multiple tasks. There are four attributes associated with each task: task type, ID, dependencies, and arguments. They use few-shot examples to guide LLM to do task parsing and planning.\n",
      "Instruction:\n",
      "\n",
      "The AI assistant can parse user input to several tasks: [{\"task\": task, \"id\", task_id, \"dep\": dependency_task_ids, \"args\": {\"text\": text, \"image\": URL, \"audio\": URL, \"video\": URL}}]. The \"dep\" field denotes the id of the previous task which generates a new resource that the current task relies on. A special tag \"-task_id\" refers to the generated text image, audio and video in the dependency task with id as task_id. The task MUST be selected from the following options: {{ Available Task List }}. There is a logical relationship between tasks, please note their order. If the user input can't be parsed, you need to reply empty JSON. Here are several cases for your reference: {{ Demonstrations }}. The chat history is recorded as {{ Chat History }}. From this chat history, you can find the path of the user-mentioned resources for your task planning.\n",
      "\n",
      "\n",
      "Resources:\n",
      "1. Internet access for searches and information gathering.\n",
      "2. Long Term memory management.\n",
      "3. GPT-3.5 powered Agents for delegation of simple tasks.\n",
      "4. File output.\n",
      "\n",
      "Performance Evaluation:\n",
      "1. Continuously review and analyze your actions to ensure you are performing to the best of your abilities.\n",
      "2. Constructively self-criticize your big-picture behavior constantly.\n",
      "3. Reflect on past decisions and strategies to refine your approach.\n",
      "4. Every command has a cost, so be smart and efficient. Aim to complete tasks in the least number of steps.\n",
      "\n",
      "\n",
      "Fig. 5. After fine-tuning with CoH, the model can follow instructions to produce outputs with incremental improvement in a sequence. (Image source: Liu et al. 2023)\n",
      "The idea of CoH is to present a history of sequentially improved outputs  in context and train the model to take on the trend to produce better outputs. Algorithm Distillation (AD; Laskin et al. 2023) applies the same idea to cross-episode trajectories in reinforcement learning tasks, where an algorithm is encapsulated in a long history-conditioned policy. Considering that an agent interacts with the environment many times and in each episode the agent gets a little better, AD concatenates this learning history and feeds that into the model. Hence we should expect the next predicted action to lead to better performance than previous trials. The goal is to learn the process of RL instead of training a task-specific policy itself.\n",
      "\n",
      "\n"
     ]
    }
   ],
   "source": [
    "for doc in docs:\n",
    "    print(doc.page_content)\n",
    "    print('\\n')"
   ]
  },
  {
   "cell_type": "markdown",
   "metadata": {},
   "source": [
    "# 3. Generation"
   ]
  },
  {
   "cell_type": "markdown",
   "metadata": {},
   "source": [
    "Prompt Template"
   ]
  },
  {
   "cell_type": "code",
   "execution_count": 13,
   "metadata": {},
   "outputs": [
    {
     "data": {
      "text/plain": [
       "ChatPromptTemplate(input_variables=['context', 'question'], input_types={}, partial_variables={}, messages=[HumanMessagePromptTemplate(prompt=PromptTemplate(input_variables=['context', 'question'], input_types={}, partial_variables={}, template='Answer the question based only on the following context:\\n{context}\\n\\nQuestion: {question}\\n'), additional_kwargs={})])"
      ]
     },
     "execution_count": 13,
     "metadata": {},
     "output_type": "execute_result"
    }
   ],
   "source": [
    "from langchain.prompts import ChatPromptTemplate\n",
    "\n",
    "template = \"\"\"Answer the question based only on the following context:\n",
    "{context}\n",
    "\n",
    "Question: {question}\n",
    "\"\"\"\n",
    "\n",
    "prompt = ChatPromptTemplate.from_template(template)\n",
    "prompt"
   ]
  },
  {
   "cell_type": "markdown",
   "metadata": {},
   "source": [
    "Custom LLM"
   ]
  },
  {
   "cell_type": "code",
   "execution_count": 14,
   "metadata": {},
   "outputs": [],
   "source": [
    "from tools.customllm import RedPillLLM\n",
    "\n",
    "llm = RedPillLLM(model=\"gpt-4o\", \n",
    "                 api_key=os.getenv(\"RED_PILL_API_KEY\"),\n",
    "                 temperature = 0)"
   ]
  },
  {
   "cell_type": "markdown",
   "metadata": {},
   "source": [
    "Rag Chains"
   ]
  },
  {
   "cell_type": "code",
   "execution_count": 16,
   "metadata": {},
   "outputs": [],
   "source": [
    "from langchain import hub\n",
    "prompt_hub_rag = hub.pull(\"rlm/rag-prompt\")"
   ]
  },
  {
   "cell_type": "code",
   "execution_count": 17,
   "metadata": {},
   "outputs": [
    {
     "data": {
      "text/plain": [
       "ChatPromptTemplate(input_variables=['context', 'question'], input_types={}, partial_variables={}, metadata={'lc_hub_owner': 'rlm', 'lc_hub_repo': 'rag-prompt', 'lc_hub_commit_hash': '50442af133e61576e74536c6556cefe1fac147cad032f4377b60c436e6cdcb6e'}, messages=[HumanMessagePromptTemplate(prompt=PromptTemplate(input_variables=['context', 'question'], input_types={}, partial_variables={}, template=\"You are an assistant for question-answering tasks. Use the following pieces of retrieved context to answer the question. If you don't know the answer, just say that you don't know. Use three sentences maximum and keep the answer concise.\\nQuestion: {question} \\nContext: {context} \\nAnswer:\"), additional_kwargs={})])"
      ]
     },
     "execution_count": 17,
     "metadata": {},
     "output_type": "execute_result"
    }
   ],
   "source": [
    "prompt_hub_rag"
   ]
  },
  {
   "cell_type": "markdown",
   "metadata": {},
   "source": [
    "RAG chains"
   ]
  },
  {
   "cell_type": "code",
   "execution_count": 20,
   "metadata": {},
   "outputs": [
    {
     "data": {
      "text/plain": [
       "'Task Decomposition is a process used to break down complicated tasks into smaller and simpler steps. It involves using techniques like Chain of Thought (CoT) and Tree of Thoughts to enhance model performance on complex tasks. CoT prompts the model to \"think step by step,\" transforming big tasks into multiple manageable tasks and providing insight into the model\\'s thinking process. Tree of Thoughts extends this by exploring multiple reasoning possibilities at each step, creating a tree structure of thoughts. Task decomposition can be achieved through simple prompting, task-specific instructions, or human inputs.'"
      ]
     },
     "execution_count": 20,
     "metadata": {},
     "output_type": "execute_result"
    }
   ],
   "source": [
    "from langchain_core.output_parsers import StrOutputParser\n",
    "from langchain_core.runnables import RunnablePassthrough\n",
    "\n",
    "\n",
    "rag_chain = (\n",
    "    {\"context\": retriever, \"question\": RunnablePassthrough()}\n",
    "    | prompt\n",
    "    | llm\n",
    "    | StrOutputParser()\n",
    ")\n",
    "\n",
    "rag_chain.invoke(\"What is Task Decomposition?\")"
   ]
  }
 ],
 "metadata": {
  "kernelspec": {
   "display_name": "langchain",
   "language": "python",
   "name": "python3"
  },
  "language_info": {
   "codemirror_mode": {
    "name": "ipython",
    "version": 3
   },
   "file_extension": ".py",
   "mimetype": "text/x-python",
   "name": "python",
   "nbconvert_exporter": "python",
   "pygments_lexer": "ipython3",
   "version": "3.9.20"
  }
 },
 "nbformat": 4,
 "nbformat_minor": 2
}
